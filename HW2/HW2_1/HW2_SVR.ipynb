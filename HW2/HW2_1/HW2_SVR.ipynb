{
 "cells": [
  {
   "cell_type": "code",
   "execution_count": 1,
   "id": "9543d523",
   "metadata": {},
   "outputs": [],
   "source": [
    "from sklearn import svm\n",
    "from sklearn.svm import LinearSVR, SVR\n",
    "from sklearn.pipeline import make_pipeline\n",
    "import pandas as pd, numpy as np\n",
    "import matplotlib.pyplot as plt\n",
    "import time"
   ]
  },
  {
   "cell_type": "code",
   "execution_count": 2,
   "id": "eb4a7194",
   "metadata": {},
   "outputs": [],
   "source": [
    "adult = pd.read_csv('adult/adult1.data', header=None)\n",
    "adult_test = pd.read_csv('adult/adult1.test', skiprows=[0], header=None)\n",
    "\n",
    "x = adult.iloc[:,[x for x in range(adult.shape[1]) if x != 12]]\n",
    "y = adult.iloc[:,12]\n",
    "\n",
    "test_x = adult_test.iloc[:,[x for x in range(adult_test.shape[1]) if x != 12]]\n",
    "test_y = adult_test.iloc[:,12]\n",
    "\n",
    "#print(x, y, test_x_1, test_y)"
   ]
  },
  {
   "cell_type": "code",
   "execution_count": 3,
   "id": "88300427",
   "metadata": {},
   "outputs": [],
   "source": [
    "from sklearn.preprocessing import OneHotEncoder, OrdinalEncoder, StandardScaler\n",
    "\n",
    "ohe = OneHotEncoder(handle_unknown='ignore')\n",
    "ord_y = OrdinalEncoder()\n",
    "    \n",
    "ohe.fit(x)\n",
    "\n",
    "X_train_ohe = ohe.transform(x).toarray()\n",
    "test_X_ohe = ohe.transform(test_x).toarray()\n",
    "\n",
    "#print(y)\n",
    "#ord_y.fit(y)\n",
    "#Y_train_ord = ord_y.fit_transform(y).ravel()\n",
    "#Y_test_ord = ord_y.fit_transform(test_y).ravel()\n",
    "#print(Y_train_ord, Y_test_ord)"
   ]
  },
  {
   "cell_type": "code",
   "execution_count": 4,
   "id": "8bd9f60c",
   "metadata": {},
   "outputs": [
    {
     "data": {
      "text/plain": [
       "\"start = time.time()\\nlinearModel = make_pipeline(StandardScaler(),LinearSVR(C = 50, epsilon = 0.5, dual=True))\\n#linearModel = svm.SVR(C = 1.0, kernel='linear', epsilon = 0.2)\\nlinearModel.fit(X_train_ohe, y)\\nelapsed_time = time.time()-start\""
      ]
     },
     "execution_count": 4,
     "metadata": {},
     "output_type": "execute_result"
    }
   ],
   "source": [
    "\"\"\"start = time.time()\n",
    "linearModel = make_pipeline(StandardScaler(),LinearSVR(C = 50, epsilon = 0.5, dual=True))\n",
    "#linearModel = svm.SVR(C = 1.0, kernel='linear', epsilon = 0.2)\n",
    "linearModel.fit(X_train_ohe, y)\n",
    "elapsed_time = time.time()-start\"\"\""
   ]
  },
  {
   "cell_type": "code",
   "execution_count": 5,
   "id": "dccc0ba7",
   "metadata": {},
   "outputs": [],
   "source": [
    "start = time.time()\n",
    "model = SVR(kernel='rbf')\n",
    "model.fit(X_train_ohe, y.astype('int'))\n",
    "elapsed_time = time.time()-start"
   ]
  },
  {
   "cell_type": "code",
   "execution_count": 6,
   "id": "61d205da",
   "metadata": {},
   "outputs": [
    {
     "name": "stdout",
     "output_type": "stream",
     "text": [
      "11299.964239120483\n",
      "0.19561047378143492\n"
     ]
    }
   ],
   "source": [
    "from sklearn.metrics import classification_report,confusion_matrix\n",
    "pred = model.predict(test_X_ohe)\n",
    "print(elapsed_time)\n",
    "#print(confusion_matrix(Y_test_ord,pred))\n",
    "print(model.score(test_X_ohe, test_y))"
   ]
  },
  {
   "cell_type": "code",
   "execution_count": 10,
   "id": "3e1f61a7",
   "metadata": {},
   "outputs": [
    {
     "name": "stdout",
     "output_type": "stream",
     "text": [
      "0.26467234726737526\n",
      "117.04047668771051\n",
      "0.19561047378143492\n"
     ]
    }
   ],
   "source": [
    "from sklearn.metrics import mean_absolute_percentage_error, mean_squared_error, r2_score\n",
    "print(elapsed_time)\n",
    "print(mean_absolute_percentage_error(test_y, pred))\n",
    "print(mean_squared_error(test_y,pred))\n",
    "print(r2_score(test_y,pred))"
   ]
  },
  {
   "cell_type": "code",
   "execution_count": null,
   "id": "7fd141d5",
   "metadata": {},
   "outputs": [],
   "source": []
  },
  {
   "cell_type": "code",
   "execution_count": null,
   "id": "3fa8021a",
   "metadata": {},
   "outputs": [],
   "source": []
  },
  {
   "cell_type": "code",
   "execution_count": null,
   "id": "0e387ed6",
   "metadata": {},
   "outputs": [],
   "source": []
  },
  {
   "cell_type": "code",
   "execution_count": null,
   "id": "daf7978b",
   "metadata": {},
   "outputs": [],
   "source": []
  }
 ],
 "metadata": {
  "kernelspec": {
   "display_name": "Python 3 (ipykernel)",
   "language": "python",
   "name": "python3"
  },
  "language_info": {
   "codemirror_mode": {
    "name": "ipython",
    "version": 3
   },
   "file_extension": ".py",
   "mimetype": "text/x-python",
   "name": "python",
   "nbconvert_exporter": "python",
   "pygments_lexer": "ipython3",
   "version": "3.8.18"
  }
 },
 "nbformat": 4,
 "nbformat_minor": 5
}
