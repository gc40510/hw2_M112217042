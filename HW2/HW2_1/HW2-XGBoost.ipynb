{
 "cells": [
  {
   "cell_type": "code",
   "execution_count": 1,
   "id": "bacc0aab",
   "metadata": {},
   "outputs": [],
   "source": [
    "import xgboost as xgb, pandas as pd"
   ]
  },
  {
   "cell_type": "code",
   "execution_count": 2,
   "id": "2dcd6198",
   "metadata": {},
   "outputs": [],
   "source": [
    "adult = pd.read_csv('adult/adult1.data', header=None)\n",
    "adult_test = pd.read_csv('adult/adult1.test', skiprows=[0], header=None)\n",
    "\n",
    "x = adult.iloc[:,[x for x in range(adult.shape[1]) if x != 12]]\n",
    "y = adult.iloc[:,12]\n",
    "\n",
    "test_x = adult_test.iloc[:,[x for x in range(adult_test.shape[1]) if x != 12]]\n",
    "test_y = adult_test.iloc[:,12]"
   ]
  },
  {
   "cell_type": "code",
   "execution_count": 3,
   "id": "46c1fb4a",
   "metadata": {},
   "outputs": [
    {
     "name": "stdout",
     "output_type": "stream",
     "text": [
      "[39 12 39 ... 39 19 39] [39 49 39 ... 49 39 59]\n"
     ]
    }
   ],
   "source": [
    "from sklearn.preprocessing import OneHotEncoder, LabelEncoder\n",
    "\n",
    "ohe = OneHotEncoder(handle_unknown='ignore')\n",
    "#ohe_y = OneHotEncoder(handle_unknown='ignore')\n",
    "#ord_y = OrdinalEncoder()\n",
    "le_y = LabelEncoder()\n",
    "    \n",
    "ohe.fit(x)\n",
    "\n",
    "X_train_ohe = ohe.transform(x).toarray()\n",
    "test_X_ohe = ohe.transform(test_x).toarray()\n",
    "#Y_train_ohe = ohe_y.transform(y).toarray()\n",
    "#test_Y_ohe = ohe_y.transform(test_y).toarray()\n",
    "\n",
    "#print(y)\n",
    "#ord_y.fit(y)\n",
    "Y_train = le_y.fit_transform(y)\n",
    "Y_test = le_y.fit_transform(test_y)\n",
    "print(Y_train, Y_test)"
   ]
  },
  {
   "cell_type": "code",
   "execution_count": 4,
   "id": "98287286",
   "metadata": {},
   "outputs": [
    {
     "name": "stdout",
     "output_type": "stream",
     "text": [
      "[17:17:23] WARNING: C:/Jenkins/workspace/xgboost-win64_release_0.90/src/objective/regression_obj.cu:152: reg:linear is now deprecated in favor of reg:squarederror.\n"
     ]
    }
   ],
   "source": [
    "import time\n",
    "start = time.time()\n",
    "xgb_regressor = xgb.XGBRFRegressor()\n",
    "#xgb_classifier = xgb.XGBClassifier()\n",
    "xgb_regressor.fit(X_train_ohe, y)\n",
    "elapsed_time = time.time()-start"
   ]
  },
  {
   "cell_type": "code",
   "execution_count": 5,
   "id": "e4f193c5",
   "metadata": {},
   "outputs": [
    {
     "name": "stdout",
     "output_type": "stream",
     "text": [
      "585.7576594352722\n",
      "63522033572188.99\n",
      "119.22337989376334\n",
      "0.14786034806006454\n"
     ]
    }
   ],
   "source": [
    "from sklearn.metrics import mean_absolute_percentage_error, mean_squared_error, r2_score\n",
    "pred = xgb_regressor.predict(test_X_ohe)\n",
    "print(elapsed_time)\n",
    "print(mean_absolute_percentage_error(Y_test, pred))\n",
    "print(mean_squared_error(Y_test,pred))\n",
    "print(r2_score(Y_test,pred))"
   ]
  },
  {
   "cell_type": "code",
   "execution_count": null,
   "id": "52ea2e94",
   "metadata": {},
   "outputs": [],
   "source": []
  },
  {
   "cell_type": "code",
   "execution_count": null,
   "id": "adab08a1",
   "metadata": {},
   "outputs": [],
   "source": []
  }
 ],
 "metadata": {
  "kernelspec": {
   "display_name": "Python 3 (ipykernel)",
   "language": "python",
   "name": "python3"
  },
  "language_info": {
   "codemirror_mode": {
    "name": "ipython",
    "version": 3
   },
   "file_extension": ".py",
   "mimetype": "text/x-python",
   "name": "python",
   "nbconvert_exporter": "python",
   "pygments_lexer": "ipython3",
   "version": "3.8.18"
  }
 },
 "nbformat": 4,
 "nbformat_minor": 5
}
