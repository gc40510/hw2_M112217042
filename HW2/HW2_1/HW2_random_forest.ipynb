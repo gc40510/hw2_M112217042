{
 "cells": [
  {
   "cell_type": "code",
   "execution_count": 1,
   "id": "fa0001fc",
   "metadata": {},
   "outputs": [],
   "source": [
    "from sklearn.ensemble import RandomForestClassifier\n",
    "import pandas as pd, time"
   ]
  },
  {
   "cell_type": "code",
   "execution_count": 2,
   "id": "30dabb9f",
   "metadata": {},
   "outputs": [],
   "source": [
    "adult = pd.read_csv('adult/adult1.data', header=None)\n",
    "adult_test = pd.read_csv('adult/adult1.test', skiprows=[0], header=None)\n",
    "\n",
    "x = adult.iloc[:,[x for x in range(adult.shape[1]) if x != 12]]\n",
    "y = adult.iloc[:,12]\n",
    "\n",
    "test_x = adult_test.iloc[:,[x for x in range(adult_test.shape[1]) if x != 12]]\n",
    "test_y = adult_test.iloc[:,12]"
   ]
  },
  {
   "cell_type": "code",
   "execution_count": 3,
   "id": "2cb94850",
   "metadata": {},
   "outputs": [
    {
     "name": "stdout",
     "output_type": "stream",
     "text": [
      "[[0. 0. 0. ... 0. 1. 0.]\n",
      " [0. 0. 0. ... 0. 1. 0.]\n",
      " [0. 0. 0. ... 0. 0. 1.]\n",
      " ...\n",
      " [0. 0. 0. ... 0. 1. 0.]\n",
      " [0. 0. 0. ... 0. 1. 0.]\n",
      " [0. 0. 0. ... 0. 0. 1.]]\n"
     ]
    }
   ],
   "source": [
    "from sklearn.preprocessing import OneHotEncoder\n",
    "\n",
    "ohe = OneHotEncoder(handle_unknown='ignore')\n",
    "    \n",
    "ohe.fit(x)\n",
    "\n",
    "X_train_ohe = ohe.transform(x).toarray()\n",
    "test_X_ohe = ohe.transform(test_x).toarray()\n",
    "print(test_X_ohe)"
   ]
  },
  {
   "cell_type": "code",
   "execution_count": 4,
   "id": "866fd4e7",
   "metadata": {},
   "outputs": [],
   "source": [
    "rf = RandomForestClassifier()\n",
    "start = time.time()\n",
    "rf.fit(X_train_ohe,y.ravel())\n",
    "elapsed_time = time.time()-start"
   ]
  },
  {
   "cell_type": "code",
   "execution_count": 5,
   "id": "e6f68161",
   "metadata": {},
   "outputs": [],
   "source": [
    "from sklearn import metrics\n",
    "from sklearn.metrics import classification_report"
   ]
  },
  {
   "cell_type": "code",
   "execution_count": 6,
   "id": "4a366397",
   "metadata": {},
   "outputs": [
    {
     "name": "stdout",
     "output_type": "stream",
     "text": [
      "366.81078839302063\n",
      "0.45909694555112884\n",
      "              precision    recall  f1-score   support\n",
      "\n",
      "           1       0.00      0.00      0.00         5\n",
      "           2       0.00      0.00      0.00         9\n",
      "           3       0.00      0.00      0.00        11\n",
      "           4       0.00      0.00      0.00        20\n",
      "           5       0.00      0.00      0.00        22\n",
      "           6       0.00      0.00      0.00        19\n",
      "           7       0.00      0.00      0.00        13\n",
      "           8       0.00      0.00      0.00        50\n",
      "           9       0.00      0.00      0.00         7\n",
      "          10       0.15      0.04      0.06       110\n",
      "          11       0.00      0.00      0.00         7\n",
      "          12       0.00      0.00      0.00        64\n",
      "          13       0.00      0.00      0.00         4\n",
      "          14       0.00      0.00      0.00        12\n",
      "          15       0.13      0.04      0.06       173\n",
      "          16       0.06      0.03      0.04        73\n",
      "          17       0.00      0.00      0.00        13\n",
      "          18       0.00      0.00      0.00        49\n",
      "          19       0.00      0.00      0.00         5\n",
      "          20       0.22      0.14      0.17       548\n",
      "          21       0.00      0.00      0.00        18\n",
      "          22       0.00      0.00      0.00        17\n",
      "          23       0.00      0.00      0.00        14\n",
      "          24       0.11      0.01      0.02        87\n",
      "          25       0.11      0.02      0.04       246\n",
      "          26       0.00      0.00      0.00         9\n",
      "          27       0.00      0.00      0.00        11\n",
      "          28       0.00      0.00      0.00        51\n",
      "          29       0.00      0.00      0.00         7\n",
      "          30       0.11      0.02      0.03       478\n",
      "          31       0.00      0.00      0.00         7\n",
      "          32       0.00      0.00      0.00       133\n",
      "          33       0.00      0.00      0.00        22\n",
      "          34       0.00      0.00      0.00        20\n",
      "          35       0.10      0.01      0.02       592\n",
      "          36       0.22      0.02      0.03       106\n",
      "          37       0.00      0.00      0.00        91\n",
      "          38       0.00      0.00      0.00       225\n",
      "          39       0.00      0.00      0.00        25\n",
      "          40       0.50      0.93      0.65      7107\n",
      "          41       0.00      0.00      0.00        22\n",
      "          42       0.00      0.00      0.00       113\n",
      "          43       0.00      0.00      0.00        73\n",
      "          44       0.00      0.00      0.00        92\n",
      "          45       0.09      0.02      0.03       849\n",
      "          46       0.00      0.00      0.00        47\n",
      "          47       0.00      0.00      0.00        33\n",
      "          48       0.07      0.00      0.01       239\n",
      "          49       0.00      0.00      0.00        10\n",
      "          50       0.22      0.11      0.14      1376\n",
      "          51       0.00      0.00      0.00         7\n",
      "          52       0.00      0.00      0.00        65\n",
      "          53       1.00      0.08      0.15        12\n",
      "          54       0.00      0.00      0.00        20\n",
      "          55       0.03      0.00      0.01       348\n",
      "          56       0.00      0.00      0.00        43\n",
      "          57       0.00      0.00      0.00         2\n",
      "          58       0.00      0.00      0.00        10\n",
      "          59       0.00      0.00      0.00         2\n",
      "          60       0.12      0.04      0.06       680\n",
      "          61       0.00      0.00      0.00         2\n",
      "          62       0.00      0.00      0.00         5\n",
      "          63       0.00      0.00      0.00         5\n",
      "          64       0.00      0.00      0.00         7\n",
      "          65       0.08      0.01      0.02       108\n",
      "          66       0.00      0.00      0.00         6\n",
      "          67       0.00      0.00      0.00         2\n",
      "          68       0.00      0.00      0.00         4\n",
      "          69       0.00      0.00      0.00         1\n",
      "          70       0.17      0.02      0.04       142\n",
      "          72       0.00      0.00      0.00        35\n",
      "          73       0.00      0.00      0.00         1\n",
      "          74       0.00      0.00      0.00         2\n",
      "          75       0.00      0.00      0.00        37\n",
      "          76       0.00      0.00      0.00         1\n",
      "          77       0.00      0.00      0.00         3\n",
      "          78       0.00      0.00      0.00         5\n",
      "          79       0.00      0.00      0.00         1\n",
      "          80       0.00      0.00      0.00        69\n",
      "          84       1.00      0.04      0.08        25\n",
      "          85       0.00      0.00      0.00         4\n",
      "          86       0.00      0.00      0.00         2\n",
      "          88       0.00      0.00      0.00         2\n",
      "          89       0.00      0.00      0.00         1\n",
      "          90       0.00      0.00      0.00        13\n",
      "          92       0.00      0.00      0.00         2\n",
      "          96       0.00      0.00      0.00         4\n",
      "          98       0.00      0.00      0.00         3\n",
      "          99       0.00      0.00      0.00        45\n",
      "\n",
      "    accuracy                           0.46     15060\n",
      "   macro avg       0.05      0.02      0.02     15060\n",
      "weighted avg       0.30      0.46      0.34     15060\n",
      "\n"
     ]
    },
    {
     "name": "stderr",
     "output_type": "stream",
     "text": [
      "D:\\anaconda3\\envs\\datamining\\lib\\site-packages\\sklearn\\metrics\\_classification.py:1471: UndefinedMetricWarning: Precision and F-score are ill-defined and being set to 0.0 in labels with no predicted samples. Use `zero_division` parameter to control this behavior.\n",
      "  _warn_prf(average, modifier, msg_start, len(result))\n",
      "D:\\anaconda3\\envs\\datamining\\lib\\site-packages\\sklearn\\metrics\\_classification.py:1471: UndefinedMetricWarning: Precision and F-score are ill-defined and being set to 0.0 in labels with no predicted samples. Use `zero_division` parameter to control this behavior.\n",
      "  _warn_prf(average, modifier, msg_start, len(result))\n",
      "D:\\anaconda3\\envs\\datamining\\lib\\site-packages\\sklearn\\metrics\\_classification.py:1471: UndefinedMetricWarning: Precision and F-score are ill-defined and being set to 0.0 in labels with no predicted samples. Use `zero_division` parameter to control this behavior.\n",
      "  _warn_prf(average, modifier, msg_start, len(result))\n"
     ]
    }
   ],
   "source": [
    "train_y_rm = rf.predict(test_X_ohe)\n",
    "text_y_rm = rf.predict(test_X_ohe)\n",
    "#accuracy1 = metrics.accuracy_score(y,train_y_rm)\n",
    "accuracy = metrics.accuracy_score(test_y, train_y_rm)\n",
    "\n",
    "#print(accuracy1)\n",
    "print(elapsed_time)\n",
    "print(accuracy)\n",
    "print(classification_report(test_y, text_y_rm))"
   ]
  },
  {
   "cell_type": "code",
   "execution_count": 7,
   "id": "e02a27fa",
   "metadata": {},
   "outputs": [
    {
     "name": "stdout",
     "output_type": "stream",
     "text": [
      "366.81078839302063\n",
      "0.2742266047946838\n",
      "138.65770252324037\n",
      "0.047040760635115864\n"
     ]
    }
   ],
   "source": [
    "from sklearn.metrics import mean_absolute_percentage_error, mean_squared_error, r2_score\n",
    "print(elapsed_time)\n",
    "print(mean_absolute_percentage_error(test_y, text_y_rm))\n",
    "print(mean_squared_error(test_y,text_y_rm))\n",
    "print(r2_score(test_y,text_y_rm))"
   ]
  },
  {
   "cell_type": "code",
   "execution_count": null,
   "id": "4d98cc9f",
   "metadata": {},
   "outputs": [],
   "source": []
  }
 ],
 "metadata": {
  "kernelspec": {
   "display_name": "Python 3 (ipykernel)",
   "language": "python",
   "name": "python3"
  },
  "language_info": {
   "codemirror_mode": {
    "name": "ipython",
    "version": 3
   },
   "file_extension": ".py",
   "mimetype": "text/x-python",
   "name": "python",
   "nbconvert_exporter": "python",
   "pygments_lexer": "ipython3",
   "version": "3.8.18"
  }
 },
 "nbformat": 4,
 "nbformat_minor": 5
}
