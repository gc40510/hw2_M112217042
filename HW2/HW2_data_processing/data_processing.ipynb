{
 "cells": [
  {
   "cell_type": "code",
   "execution_count": null,
   "id": "d4b0fac9",
   "metadata": {},
   "outputs": [],
   "source": [
    "with open('adult/adult1.test','w', encoding='utf-8') as csvfile:\n",
    "    \n",
    "    with open('adult/adult.test', 'r', newline='') as filein:\n",
    "        for line in filein:\n",
    "            flage = 0\n",
    "            \n",
    "            for i in range(0,len(line)):\n",
    "                if(line[i] == '?'):\n",
    "                    flage+=1\n",
    "            \n",
    "            if flage == 0:\n",
    "                csvfile.write(line)\n",
    "                #print(line)"
   ]
  }
 ],
 "metadata": {
  "kernelspec": {
   "display_name": "Python 3 (ipykernel)",
   "language": "python",
   "name": "python3"
  },
  "language_info": {
   "codemirror_mode": {
    "name": "ipython",
    "version": 3
   },
   "file_extension": ".py",
   "mimetype": "text/x-python",
   "name": "python",
   "nbconvert_exporter": "python",
   "pygments_lexer": "ipython3",
   "version": "3.7.1"
  }
 },
 "nbformat": 4,
 "nbformat_minor": 5
}
